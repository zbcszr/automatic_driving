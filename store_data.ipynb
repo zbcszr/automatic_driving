{
 "metadata": {
  "language_info": {
   "codemirror_mode": {
    "name": "ipython",
    "version": 3
   },
   "file_extension": ".py",
   "mimetype": "text/x-python",
   "name": "python",
   "nbconvert_exporter": "python",
   "pygments_lexer": "ipython3",
   "version": 3
  },
  "orig_nbformat": 2
 },
 "nbformat": 4,
 "nbformat_minor": 2,
 "cells": [
  {
   "cell_type": "code",
   "execution_count": null,
   "metadata": {},
   "outputs": [],
   "source": [
    "import h5py\n",
    "\n",
    "f = h5py.File('../data/p1ch3/ourpoints.hdf5', 'w')\n",
    "dset = f.create_dataset('coords', data=points.numpy())\n",
    "f.close()"
   ]
  },
  {
   "cell_type": "code",
   "execution_count": null,
   "metadata": {},
   "outputs": [],
   "source": [
    "f = h5py.File('../data/p1ch3/ourpoints.hdf5', 'r')\n",
    "print(dir(f))\n",
    "dset = f['coords']\n",
    "last_points = dset[-2:]"
   ]
  },
  {
   "cell_type": "code",
   "execution_count": null,
   "metadata": {},
   "outputs": [],
   "source": [
    "import numpy as np\n",
    "import cv2"
   ]
  },
  {
   "cell_type": "code",
   "execution_count": null,
   "metadata": {},
   "outputs": [],
   "source": [
    "f = h5py.File('/home/shifa/AgentHuman/SeqTrain/data_03663.h5', 'r')\n",
    "imgs = np.array(f['rgb'])\n",
    "print(imgs.shape)\n",
    "targets = np.array(f['targets'])"
   ]
  },
  {
   "cell_type": "code",
   "execution_count": null,
   "metadata": {},
   "outputs": [],
   "source": [
    "img = imgs[100]\n",
    "target = targets[100]\n",
    "target = target.astype(np.float32)\n",
    "print(target.shape)\n",
    "print(target)\n",
    "# 2 Follow lane, 3 Left, 4 Right, 5 Straight\n",
    "# -> 0 Follow lane, 1 Left, 2 Right, 3 Straight\n",
    "command = int(target[24])-2\n",
    "print('command', command)\n",
    "# Steer, Gas, Brake (0,1, focus on steer loss)\n",
    "target_vec = np.zeros((4, 3), dtype=np.float32)\n",
    "target_vec[command, :] = target[:3]\n",
    "print(target_vec)\n",
    "            # in km/h, <90\n",
    "speed = np.array([target[10]/90, ]).astype(np.float32)\n",
    "print('speed', speed)\n",
    "mask_vec = np.zeros((4, 3), dtype=np.float32)\n",
    "mask_vec[command, :] = 1\n",
    "print(mask_vec.shape)\n",
    "plt.imshow(img)\n",
    "plt.show()\n",
    "tar = target_vec.reshape(-1)\n",
    "mask = mask_vec.reshape(-1)\n",
    "print(speed, tar, mask)"
   ]
  },
  {
   "cell_type": "code",
   "execution_count": null,
   "metadata": {},
   "outputs": [],
   "source": [
    "idx = 0\n",
    "while(idx<200):\n",
    "    frame = imgs[idx]\n",
    "    idx += 1\n",
    "    cv2.imshow('frame',frame)\n",
    "    k = cv2.waitKey(100) & 0xff\n",
    "    if k == 27:\n",
    "        break\n",
    "cv2.destroyAllWindows()"
   ]
  }
 ]
}